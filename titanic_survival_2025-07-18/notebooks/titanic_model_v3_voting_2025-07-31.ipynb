{
 "cells": [
  {
   "cell_type": "markdown",
   "id": "6bc0ebc8-d9a3-4ca6-b06d-c58011b79b98",
   "metadata": {},
   "source": [
    "# Titanic Model V3 - Voting\n",
    "Build a VotingClassifier ensemble using the best-performing base models from V3-a."
   ]
  },
  {
   "cell_type": "markdown",
   "id": "272024d6-0f48-4815-8e36-1b7aae379bfa",
   "metadata": {},
   "source": [
    "## Section 1: Import Libraries"
   ]
  },
  {
   "cell_type": "code",
   "execution_count": 11,
   "id": "2919f17f-2f15-4fba-bd49-34a4c8a9ba0b",
   "metadata": {},
   "outputs": [],
   "source": [
    "import pandas as pd\n",
    "import numpy as np\n",
    "import matplotlib.pyplot as plt\n",
    "import seaborn as sns\n",
    "\n",
    "from sklearn.model_selection import cross_val_score\n",
    "from sklearn.preprocessing import OneHotEncoder, StandardScaler\n",
    "from sklearn.impute import SimpleImputer\n",
    "from sklearn.compose import ColumnTransformer\n",
    "from sklearn.pipeline import Pipeline\n",
    "from sklearn.ensemble import VotingClassifier\n",
    "from sklearn.linear_model import LogisticRegression\n",
    "from sklearn.ensemble import RandomForestClassifier\n",
    "from xgboost import XGBClassifier\n",
    "from sklearn.metrics import accuracy_score\n",
    "from datetime import datetime"
   ]
  },
  {
   "cell_type": "markdown",
   "id": "824f7714-f1d6-4346-a529-05f2b07d4f37",
   "metadata": {},
   "source": [
    "## Section 2: Load Data and Feature Engineering (reuse V3-a logic)"
   ]
  },
  {
   "cell_type": "code",
   "execution_count": 12,
   "id": "c7434eaf-9059-4a79-9859-9370b2ac2679",
   "metadata": {},
   "outputs": [],
   "source": [
    "train = pd.read_csv(\"../data/train.csv\")\n",
    "test = pd.read_csv(\"../data/test.csv\")\n",
    "\n",
    "# Feature Engineering\n",
    "def extract_title(df):\n",
    "    df['Title'] = df['Name'].str.extract(r' ([A-Za-z]+)\\.', expand=False)\n",
    "    df['Title_Grouped'] = df['Title'].replace({\n",
    "        'Mlle': 'Miss', 'Ms': 'Miss', 'Mme': 'Mrs',\n",
    "        'Lady': 'Rare', 'Countess': 'Rare', 'Capt': 'Rare',\n",
    "        'Col': 'Rare', 'Don': 'Rare', 'Dr': 'Rare', 'Major': 'Rare',\n",
    "        'Rev': 'Rare', 'Sir': 'Rare', 'Jonkheer': 'Rare', 'Dona': 'Rare'\n",
    "    })\n",
    "    return df\n",
    "\n",
    "def add_family_features(df):\n",
    "    df['FamilySize'] = df['SibSp'] + df['Parch'] + 1\n",
    "    df['IsAlone'] = (df['FamilySize'] == 1).astype(int)\n",
    "    df['FarePerPerson'] = df['Fare'] / df['FamilySize']\n",
    "    return df\n",
    "\n",
    "def engineer_features(df):\n",
    "    df = extract_title(df)\n",
    "    df = add_family_features(df)\n",
    "    return df\n",
    "\n",
    "train = engineer_features(train)\n",
    "test = engineer_features(test)\n",
    "\n",
    "# Impute Age\n",
    "title_age_medians = train.groupby('Title_Grouped')['Age'].median()\n",
    "\n",
    "def impute_age(df):\n",
    "    df['Age'] = df.apply(\n",
    "        lambda row: title_age_medians[row['Title_Grouped']] if pd.isnull(row['Age']) else row['Age'], axis=1\n",
    "    )\n",
    "    return df\n",
    "\n",
    "train = impute_age(train)\n",
    "test = impute_age(test)\n",
    "\n",
    "train['Embarked'] = train['Embarked'].fillna(train['Embarked'].mode()[0])\n",
    "test['Fare'] = test['Fare'].fillna(test['Fare'].median())\n",
    "\n",
    "# Select Features\n",
    "features = [\n",
    "    'Pclass', 'Sex', 'Age', 'SibSp', 'Parch', 'Fare',\n",
    "    'Title_Grouped', 'FamilySize', 'IsAlone', 'FarePerPerson'\n",
    "]\n",
    "\n",
    "X = train[features]\n",
    "y = train['Survived']\n",
    "X_test_final = test[features]"
   ]
  },
  {
   "cell_type": "markdown",
   "id": "e24db6ad-cb87-4d5f-abdd-489d5b8290d6",
   "metadata": {},
   "source": [
    "## Section 3: Preprocessing Pipeline (shared by all base models)"
   ]
  },
  {
   "cell_type": "code",
   "execution_count": 13,
   "id": "c1627aba-334d-4360-9e94-fa98adca284d",
   "metadata": {},
   "outputs": [],
   "source": [
    "numeric_features = ['Age', 'Fare', 'FamilySize', 'FarePerPerson']\n",
    "categorical_features = ['Pclass', 'Sex', 'Title_Grouped', 'IsAlone']\n",
    "\n",
    "numeric_transformer = Pipeline(steps=[\n",
    "    ('imputer', SimpleImputer(strategy='median')),\n",
    "    ('scaler', StandardScaler())\n",
    "])\n",
    "\n",
    "categorical_transformer = Pipeline(steps=[\n",
    "    ('onehot', OneHotEncoder(handle_unknown='ignore'))\n",
    "])\n",
    "\n",
    "preprocessor = ColumnTransformer(\n",
    "    transformers=[\n",
    "        ('num', numeric_transformer, numeric_features),\n",
    "        ('cat', categorical_transformer, categorical_features)\n",
    "    ])"
   ]
  },
  {
   "cell_type": "markdown",
   "id": "51dad610-03db-4f02-abd3-e62ba036acbf",
   "metadata": {},
   "source": [
    "## Section 4: Define Base Models"
   ]
  },
  {
   "cell_type": "code",
   "execution_count": 14,
   "id": "8db3f285-a1e0-419a-8d45-a4501212f575",
   "metadata": {},
   "outputs": [],
   "source": [
    "clf1 = LogisticRegression(max_iter=1000, random_state=42)\n",
    "clf2 = RandomForestClassifier(n_estimators=100, max_depth=5, random_state=42)\n",
    "clf3 = XGBClassifier(use_label_encoder=False, eval_metric='logloss', n_estimators=100, learning_rate=0.1, max_depth=3, random_state=42)"
   ]
  },
  {
   "cell_type": "markdown",
   "id": "6e8c8bc8-bb3d-4815-90ac-badaca97e872",
   "metadata": {},
   "source": [
    "## Section 5: Build Voting Classifier"
   ]
  },
  {
   "cell_type": "code",
   "execution_count": 15,
   "id": "5622206e-559a-4839-814d-ca29cea83066",
   "metadata": {},
   "outputs": [],
   "source": [
    "voting_clf = Pipeline(steps=[\n",
    "    ('preprocessor', preprocessor),\n",
    "    ('voting', VotingClassifier(estimators=[\n",
    "        ('lr', clf1),\n",
    "        ('rf', clf2),\n",
    "        ('xgb', clf3)\n",
    "    ], voting='soft'))\n",
    "])"
   ]
  },
  {
   "cell_type": "markdown",
   "id": "511f4c97-8efe-4b97-8229-a05e194eb306",
   "metadata": {},
   "source": [
    "## Section 6: Cross-Validation Accuracy"
   ]
  },
  {
   "cell_type": "code",
   "execution_count": 16,
   "id": "5af8c2b9-e420-4d4b-aae4-ebeedeafcd9c",
   "metadata": {
    "scrolled": true
   },
   "outputs": [
    {
     "name": "stderr",
     "output_type": "stream",
     "text": [
      "/opt/anaconda3/lib/python3.12/site-packages/xgboost/training.py:183: UserWarning: [16:29:00] WARNING: /Users/runner/work/xgboost/xgboost/src/learner.cc:738: \n",
      "Parameters: { \"use_label_encoder\" } are not used.\n",
      "\n",
      "  bst.update(dtrain, iteration=i, fobj=obj)\n",
      "/opt/anaconda3/lib/python3.12/site-packages/xgboost/training.py:183: UserWarning: [16:29:00] WARNING: /Users/runner/work/xgboost/xgboost/src/learner.cc:738: \n",
      "Parameters: { \"use_label_encoder\" } are not used.\n",
      "\n",
      "  bst.update(dtrain, iteration=i, fobj=obj)\n",
      "/opt/anaconda3/lib/python3.12/site-packages/xgboost/training.py:183: UserWarning: [16:29:00] WARNING: /Users/runner/work/xgboost/xgboost/src/learner.cc:738: \n",
      "Parameters: { \"use_label_encoder\" } are not used.\n",
      "\n",
      "  bst.update(dtrain, iteration=i, fobj=obj)\n",
      "/opt/anaconda3/lib/python3.12/site-packages/xgboost/training.py:183: UserWarning: [16:29:00] WARNING: /Users/runner/work/xgboost/xgboost/src/learner.cc:738: \n",
      "Parameters: { \"use_label_encoder\" } are not used.\n",
      "\n",
      "  bst.update(dtrain, iteration=i, fobj=obj)\n"
     ]
    },
    {
     "name": "stdout",
     "output_type": "stream",
     "text": [
      "Cross-validation Accuracy: 0.8316 ± 0.0179\n"
     ]
    },
    {
     "name": "stderr",
     "output_type": "stream",
     "text": [
      "/opt/anaconda3/lib/python3.12/site-packages/xgboost/training.py:183: UserWarning: [16:29:01] WARNING: /Users/runner/work/xgboost/xgboost/src/learner.cc:738: \n",
      "Parameters: { \"use_label_encoder\" } are not used.\n",
      "\n",
      "  bst.update(dtrain, iteration=i, fobj=obj)\n"
     ]
    }
   ],
   "source": [
    "scores = cross_val_score(voting_clf, X, y, cv=5, scoring='accuracy')\n",
    "print(f\"Cross-validation Accuracy: {scores.mean():.4f} ± {scores.std():.4f}\")"
   ]
  },
  {
   "cell_type": "markdown",
   "id": "c591a449-f34d-449d-bc02-227be7226a77",
   "metadata": {},
   "source": [
    "## Section 7: Train on Full Data and Predict Test Set"
   ]
  },
  {
   "cell_type": "code",
   "execution_count": 17,
   "id": "aeace055-9cac-4911-a21a-695fa7584ebe",
   "metadata": {},
   "outputs": [
    {
     "name": "stderr",
     "output_type": "stream",
     "text": [
      "/opt/anaconda3/lib/python3.12/site-packages/xgboost/training.py:183: UserWarning: [16:29:14] WARNING: /Users/runner/work/xgboost/xgboost/src/learner.cc:738: \n",
      "Parameters: { \"use_label_encoder\" } are not used.\n",
      "\n",
      "  bst.update(dtrain, iteration=i, fobj=obj)\n"
     ]
    },
    {
     "name": "stdout",
     "output_type": "stream",
     "text": [
      "✅ Submission saved as: ../output/titanic_submission_v3-b_voting_ensemble_2025-07-31.csv\n"
     ]
    }
   ],
   "source": [
    "voting_clf.fit(X, y)\n",
    "y_test_pred = voting_clf.predict(X_test_final)\n",
    "\n",
    "submission = pd.DataFrame({\n",
    "    'PassengerId': test['PassengerId'],\n",
    "    'Survived': y_test_pred\n",
    "})\n",
    "\n",
    "filename = f\"../output/titanic_submission_v3-b_voting_ensemble_2025-07-31.csv\"\n",
    "submission.to_csv(filename, index=False)\n",
    "print(f\"✅ Submission saved as: {filename}\")"
   ]
  },
  {
   "cell_type": "code",
   "execution_count": null,
   "id": "9a3f9eb5-150d-42b9-85d9-88b042c18efe",
   "metadata": {},
   "outputs": [],
   "source": []
  }
 ],
 "metadata": {
  "kernelspec": {
   "display_name": "Python 3 (ipykernel)",
   "language": "python",
   "name": "python3"
  },
  "language_info": {
   "codemirror_mode": {
    "name": "ipython",
    "version": 3
   },
   "file_extension": ".py",
   "mimetype": "text/x-python",
   "name": "python",
   "nbconvert_exporter": "python",
   "pygments_lexer": "ipython3",
   "version": "3.12.2"
  }
 },
 "nbformat": 4,
 "nbformat_minor": 5
}
